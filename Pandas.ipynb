{
  "nbformat": 4,
  "nbformat_minor": 0,
  "metadata": {
    "colab": {
      "name": "Pandas.ipynb",
      "provenance": [],
      "authorship_tag": "ABX9TyNuaza8w6VgPRefCfKLB6Ss",
      "include_colab_link": true
    },
    "kernelspec": {
      "name": "python3",
      "display_name": "Python 3"
    },
    "language_info": {
      "name": "python"
    }
  },
  "cells": [
    {
      "cell_type": "markdown",
      "metadata": {
        "id": "view-in-github",
        "colab_type": "text"
      },
      "source": [
        "<a href=\"https://colab.research.google.com/github/manish2509/Machine-Learning-Libraries/blob/main/Pandas.ipynb\" target=\"_parent\"><img src=\"https://colab.research.google.com/assets/colab-badge.svg\" alt=\"Open In Colab\"/></a>"
      ]
    },
    {
      "cell_type": "markdown",
      "metadata": {
        "id": "IwvSNybasqww"
      },
      "source": [
        "#What is a DataFrame?\n",
        "#A Pandas DataFrame is a 2 dimensional data structure, like a 2 dimensional array, or a table with rows and columns."
      ]
    },
    {
      "cell_type": "code",
      "metadata": {
        "colab": {
          "base_uri": "https://localhost:8080/"
        },
        "id": "CGuJOJ6Csy40",
        "outputId": "ad7a20c5-5fee-4aae-f5e8-ddfc409882cf"
      },
      "source": [
        "import pandas as pd\n",
        "data = {\n",
        "  \"Hours of study\": [10, 12, 9.5],\n",
        "  \"Percentage of marks\": [80, 93, 75]\n",
        "}\n",
        "#load data into a DataFrame object:\n",
        "df = pd.DataFrame(data)\n",
        "\n",
        "print(df) "
      ],
      "execution_count": 1,
      "outputs": [
        {
          "output_type": "stream",
          "text": [
            "   Hours of study  Percentage of marks\n",
            "0            10.0                   80\n",
            "1            12.0                   93\n",
            "2             9.5                   75\n"
          ],
          "name": "stdout"
        }
      ]
    },
    {
      "cell_type": "markdown",
      "metadata": {
        "id": "fOoG-64btKgP"
      },
      "source": [
        "#Pandas use the loc attribute to return one or more specified rows."
      ]
    },
    {
      "cell_type": "code",
      "metadata": {
        "colab": {
          "base_uri": "https://localhost:8080/"
        },
        "id": "m1mbfGd3tObl",
        "outputId": "6b6f6c51-a43a-4294-8ad9-e6fdd29fbbbe"
      },
      "source": [
        "print(df.loc[0]) #Returns the first row\n",
        "\n",
        "print(df.loc[[0, 1]]) #Returns the row 1 and 2"
      ],
      "execution_count": 3,
      "outputs": [
        {
          "output_type": "stream",
          "text": [
            "Hours of study         10.0\n",
            "Percentage of marks    80.0\n",
            "Name: 0, dtype: float64\n",
            "   Hours of study  Percentage of marks\n",
            "0            10.0                   80\n",
            "1            12.0                   93\n"
          ],
          "name": "stdout"
        }
      ]
    },
    {
      "cell_type": "markdown",
      "metadata": {
        "id": "5epyMkAauUby"
      },
      "source": [
        "#Indexing"
      ]
    },
    {
      "cell_type": "code",
      "metadata": {
        "colab": {
          "base_uri": "https://localhost:8080/"
        },
        "id": "_rnzFx_jthaj",
        "outputId": "6a332332-a05e-4a12-b97d-935c34b2ef11"
      },
      "source": [
        "df = pd.DataFrame(data, index = [\"Student - 1\", \"Student - 2\", \"Student - 3\"])\n",
        "print(df)\n",
        "#It sets the given indices for each row corresponding."
      ],
      "execution_count": 6,
      "outputs": [
        {
          "output_type": "stream",
          "text": [
            "             Hours of study  Percentage of marks\n",
            "Student - 1            10.0                   80\n",
            "Student - 2            12.0                   93\n",
            "Student - 3             9.5                   75\n"
          ],
          "name": "stdout"
        }
      ]
    },
    {
      "cell_type": "markdown",
      "metadata": {
        "id": "deNJhvvYuYMo"
      },
      "source": [
        "#Accessing data using Index"
      ]
    },
    {
      "cell_type": "code",
      "metadata": {
        "colab": {
          "base_uri": "https://localhost:8080/"
        },
        "id": "tCyJICQgt2p9",
        "outputId": "f7f24a74-bd17-45de-c6db-40fd78b4c22f"
      },
      "source": [
        "print(df.loc[\"Student - 3\"])\n",
        "#Returns the data with index Student - 3"
      ],
      "execution_count": 8,
      "outputs": [
        {
          "output_type": "stream",
          "text": [
            "Hours of study          9.5\n",
            "Percentage of marks    75.0\n",
            "Name: Student - 3, dtype: float64\n"
          ],
          "name": "stdout"
        }
      ]
    },
    {
      "cell_type": "markdown",
      "metadata": {
        "id": "v2kS4tPaucgm"
      },
      "source": [
        "#Read a CSV file "
      ]
    },
    {
      "cell_type": "code",
      "metadata": {
        "id": "OtvrUEb7uPW3"
      },
      "source": [
        "#Reading a CSV File\n",
        "data = pd.read_csv(\"/content/student_scores.csv\")"
      ],
      "execution_count": 12,
      "outputs": []
    },
    {
      "cell_type": "markdown",
      "metadata": {
        "id": "pyrQAx3dv8FJ"
      },
      "source": [
        "#Head"
      ]
    },
    {
      "cell_type": "code",
      "metadata": {
        "colab": {
          "base_uri": "https://localhost:8080/"
        },
        "id": "trdSE94zvBmJ",
        "outputId": "5727c550-a9b8-47d7-cf57-edc1472f09cb"
      },
      "source": [
        "#Print the first 5 data\n",
        "print(data.head())"
      ],
      "execution_count": 13,
      "outputs": [
        {
          "output_type": "stream",
          "text": [
            "   Hours  Scores\n",
            "0    2.3      18\n",
            "1    5.0      45\n",
            "2    3.2      25\n",
            "3    8.5      72\n",
            "4    3.5      30\n"
          ],
          "name": "stdout"
        }
      ]
    },
    {
      "cell_type": "markdown",
      "metadata": {
        "id": "elSqecsSv9cQ"
      },
      "source": [
        "#Tail"
      ]
    },
    {
      "cell_type": "code",
      "metadata": {
        "colab": {
          "base_uri": "https://localhost:8080/"
        },
        "id": "C_LJTCOLvjCI",
        "outputId": "37ec312b-69a0-4cdb-f8d4-9c3ddec5e6bc"
      },
      "source": [
        "#Print the last 5 data\n",
        "print(data.tail())"
      ],
      "execution_count": 14,
      "outputs": [
        {
          "output_type": "stream",
          "text": [
            "    Hours  Scores\n",
            "20    2.7      30\n",
            "21    4.8      54\n",
            "22    3.7      33\n",
            "23    6.8      70\n",
            "24    7.4      85\n"
          ],
          "name": "stdout"
        }
      ]
    },
    {
      "cell_type": "markdown",
      "metadata": {
        "id": "94S_Bfokv_XC"
      },
      "source": [
        "#Info"
      ]
    },
    {
      "cell_type": "code",
      "metadata": {
        "colab": {
          "base_uri": "https://localhost:8080/"
        },
        "id": "3P1EfA5JvngA",
        "outputId": "15ed3274-fb0f-420c-a58e-8fc1f9ac94e4"
      },
      "source": [
        "#Prints information of the given data\n",
        "print(data.info())"
      ],
      "execution_count": 15,
      "outputs": [
        {
          "output_type": "stream",
          "text": [
            "<class 'pandas.core.frame.DataFrame'>\n",
            "RangeIndex: 25 entries, 0 to 24\n",
            "Data columns (total 2 columns):\n",
            " #   Column  Non-Null Count  Dtype  \n",
            "---  ------  --------------  -----  \n",
            " 0   Hours   25 non-null     float64\n",
            " 1   Scores  25 non-null     int64  \n",
            "dtypes: float64(1), int64(1)\n",
            "memory usage: 528.0 bytes\n",
            "None\n"
          ],
          "name": "stdout"
        }
      ]
    }
  ]
}