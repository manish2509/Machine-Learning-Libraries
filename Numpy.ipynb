{
  "nbformat": 4,
  "nbformat_minor": 0,
  "metadata": {
    "colab": {
      "name": "Numpy.ipynb",
      "provenance": [],
      "authorship_tag": "ABX9TyOfzIvjpMcivIaTX8Hrw9To",
      "include_colab_link": true
    },
    "kernelspec": {
      "name": "python3",
      "display_name": "Python 3"
    },
    "language_info": {
      "name": "python"
    }
  },
  "cells": [
    {
      "cell_type": "markdown",
      "metadata": {
        "id": "view-in-github",
        "colab_type": "text"
      },
      "source": [
        "<a href=\"https://colab.research.google.com/github/manish2509/Machine-Learning-Libraries/blob/main/Numpy.ipynb\" target=\"_parent\"><img src=\"https://colab.research.google.com/assets/colab-badge.svg\" alt=\"Open In Colab\"/></a>"
      ]
    },
    {
      "cell_type": "code",
      "metadata": {
        "colab": {
          "base_uri": "https://localhost:8080/"
        },
        "id": "53mQSro-m542",
        "outputId": "68d9ba99-8b60-486b-94d2-ec7550e239e9"
      },
      "source": [
        "!pip install numpy"
      ],
      "execution_count": 1,
      "outputs": [
        {
          "output_type": "stream",
          "text": [
            "Requirement already satisfied: numpy in /usr/local/lib/python3.7/dist-packages (1.19.5)\n"
          ],
          "name": "stdout"
        }
      ]
    },
    {
      "cell_type": "code",
      "metadata": {
        "colab": {
          "base_uri": "https://localhost:8080/"
        },
        "id": "4GDDTf1goDUH",
        "outputId": "e1ff314f-c9d4-4b9a-dee7-dac26ad88ecb"
      },
      "source": [
        "import numpy as np\n",
        "\n",
        "#One Dimensional Array\n",
        "arr = np.array([1, 2, 3, 4, 5])\n",
        "print(arr)\n",
        "#ndim returns the dimension of the array\n",
        "print(arr.ndim)"
      ],
      "execution_count": 6,
      "outputs": [
        {
          "output_type": "stream",
          "text": [
            "[1 2 3 4 5]\n",
            "1\n"
          ],
          "name": "stdout"
        }
      ]
    },
    {
      "cell_type": "code",
      "metadata": {
        "colab": {
          "base_uri": "https://localhost:8080/"
        },
        "id": "9mGWljzFocOh",
        "outputId": "d3db60ca-50bb-4a23-f9bc-8f624a6df3d2"
      },
      "source": [
        "#Two Dimensional Array\n",
        "arr = np.array([[1, 2, 3], [4, 5, 6]])\n",
        "print(arr)\n",
        "print(arr.ndim)"
      ],
      "execution_count": 7,
      "outputs": [
        {
          "output_type": "stream",
          "text": [
            "[[1 2 3]\n",
            " [4 5 6]]\n",
            "2\n"
          ],
          "name": "stdout"
        }
      ]
    },
    {
      "cell_type": "code",
      "metadata": {
        "colab": {
          "base_uri": "https://localhost:8080/"
        },
        "id": "L2lDmrOZoiyy",
        "outputId": "773684fc-bc36-4900-8804-ffcede7be14b"
      },
      "source": [
        "#Three Dimensional Array\n",
        "arr = np.array([[[1, 2, 3], [4, 5, 6]], [[1, 2, 3], [4, 5, 6]]])\n",
        "print(arr)\n",
        "print(arr.ndim)"
      ],
      "execution_count": 8,
      "outputs": [
        {
          "output_type": "stream",
          "text": [
            "[[[1 2 3]\n",
            "  [4 5 6]]\n",
            "\n",
            " [[1 2 3]\n",
            "  [4 5 6]]]\n",
            "3\n"
          ],
          "name": "stdout"
        }
      ]
    },
    {
      "cell_type": "code",
      "metadata": {
        "colab": {
          "base_uri": "https://localhost:8080/"
        },
        "id": "GSvCInYtpDno",
        "outputId": "dd9d49a6-a3f7-4025-d400-b6903a284d74"
      },
      "source": [
        "#Indexing starts from o to n\n",
        "arr = np.array([1, 2, 3, 4])\n",
        "print(arr[2] + arr[3])\n",
        "#This will return the sum of 3rd and 4th element in the array"
      ],
      "execution_count": 9,
      "outputs": [
        {
          "output_type": "stream",
          "text": [
            "7\n"
          ],
          "name": "stdout"
        }
      ]
    },
    {
      "cell_type": "markdown",
      "metadata": {
        "id": "22DkV-1qp9gu"
      },
      "source": [
        "#Slicing\n",
        "\n",
        "#Slicing in python means taking elements from one given index to another given index.We pass slice instead of index like this: [start:end].We can also define the step, like this: [start:end:step]."
      ]
    },
    {
      "cell_type": "code",
      "metadata": {
        "colab": {
          "base_uri": "https://localhost:8080/"
        },
        "id": "9wA1OjtBpXAB",
        "outputId": "f9c2c7f4-219c-4233-8600-ea811c568540"
      },
      "source": [
        "\n",
        "arr = np.array([1, 2, 3, 4, 5, 6, 7])\n",
        "print(arr[1:5])\n",
        "print(arr[4:])\n",
        "print(arr[1:5:2])"
      ],
      "execution_count": 11,
      "outputs": [
        {
          "output_type": "stream",
          "text": [
            "[2 3 4 5]\n",
            "[5 6 7]\n",
            "[2 4]\n"
          ],
          "name": "stdout"
        }
      ]
    },
    {
      "cell_type": "markdown",
      "metadata": {
        "id": "PBWBFdq6qGtP"
      },
      "source": [
        "#Shape\n",
        "#NumPy arrays have an attribute called shape that returns a tuple with each index having the number of corresponding elements."
      ]
    },
    {
      "cell_type": "code",
      "metadata": {
        "colab": {
          "base_uri": "https://localhost:8080/"
        },
        "id": "b8URPPjkp1-W",
        "outputId": "129a93f7-abf9-49e1-aa0b-99cbb37bb42a"
      },
      "source": [
        "arr = np.array([[1, 2, 3, 4], [5, 6, 7, 8]])\n",
        "print(arr.shape)"
      ],
      "execution_count": 12,
      "outputs": [
        {
          "output_type": "stream",
          "text": [
            "(2, 4)\n"
          ],
          "name": "stdout"
        }
      ]
    },
    {
      "cell_type": "markdown",
      "metadata": {
        "id": "27h-gU4xqjpg"
      },
      "source": [
        "#Sorting"
      ]
    },
    {
      "cell_type": "code",
      "metadata": {
        "colab": {
          "base_uri": "https://localhost:8080/"
        },
        "id": "L7W4jw6WoSYo",
        "outputId": "3fa32085-f95c-493a-daa8-049590b1eb8f"
      },
      "source": [
        "arr = np.array([[3, 2, 4], [5, 0, 1]])\n",
        "print(np.sort(arr))"
      ],
      "execution_count": 13,
      "outputs": [
        {
          "output_type": "stream",
          "text": [
            "[[2 3 4]\n",
            " [0 1 5]]\n"
          ],
          "name": "stdout"
        }
      ]
    },
    {
      "cell_type": "markdown",
      "metadata": {
        "id": "I_WkrvPCq0iU"
      },
      "source": [
        "#Sorting"
      ]
    },
    {
      "cell_type": "code",
      "metadata": {
        "colab": {
          "base_uri": "https://localhost:8080/"
        },
        "id": "pXd4abh3q2Hs",
        "outputId": "4de411b0-5dfc-4532-e871-d255c2768d30"
      },
      "source": [
        "arr = np.array([1, 2, 3, 4, 5, 4, 4])\n",
        "x = np.where(arr == 4)\n",
        "print(x)"
      ],
      "execution_count": 15,
      "outputs": [
        {
          "output_type": "stream",
          "text": [
            "(array([3, 5, 6]),)\n"
          ],
          "name": "stdout"
        }
      ]
    },
    {
      "cell_type": "markdown",
      "metadata": {
        "id": "w2wxDRGSq_BK"
      },
      "source": [
        "Which means that the value 4 is present at index 3, 5, and 6."
      ]
    },
    {
      "cell_type": "markdown",
      "metadata": {
        "id": "SY2wuCsKrAK9"
      },
      "source": [
        ""
      ]
    }
  ]
}